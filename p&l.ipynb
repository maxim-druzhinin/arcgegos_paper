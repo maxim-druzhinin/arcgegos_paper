{
 "cells": [
  {
   "cell_type": "code",
   "execution_count": 11,
   "id": "e2ef3c8b",
   "metadata": {},
   "outputs": [],
   "source": [
    "import yfinance as yf\n",
    "import numpy as np\n",
    "import pandas as pd\n",
    "import scipy.stats as ss\n",
    "import matplotlib.pyplot as plt"
   ]
  },
  {
   "cell_type": "code",
   "execution_count": 18,
   "id": "9699d2ff",
   "metadata": {},
   "outputs": [
    {
     "name": "stderr",
     "output_type": "stream",
     "text": [
      "[*********************100%***********************]  1 of 1 completed\n"
     ]
    },
    {
     "data": {
      "text/html": [
       "<div>\n",
       "<style scoped>\n",
       "    .dataframe tbody tr th:only-of-type {\n",
       "        vertical-align: middle;\n",
       "    }\n",
       "\n",
       "    .dataframe tbody tr th {\n",
       "        vertical-align: top;\n",
       "    }\n",
       "\n",
       "    .dataframe thead tr th {\n",
       "        text-align: left;\n",
       "    }\n",
       "\n",
       "    .dataframe thead tr:last-of-type th {\n",
       "        text-align: right;\n",
       "    }\n",
       "</style>\n",
       "<table border=\"1\" class=\"dataframe\">\n",
       "  <thead>\n",
       "    <tr>\n",
       "      <th>Price</th>\n",
       "      <th>Close</th>\n",
       "      <th>High</th>\n",
       "      <th>Low</th>\n",
       "      <th>Open</th>\n",
       "      <th>Volume</th>\n",
       "    </tr>\n",
       "    <tr>\n",
       "      <th>Ticker</th>\n",
       "      <th>PARA</th>\n",
       "      <th>PARA</th>\n",
       "      <th>PARA</th>\n",
       "      <th>PARA</th>\n",
       "      <th>PARA</th>\n",
       "    </tr>\n",
       "    <tr>\n",
       "      <th>Date</th>\n",
       "      <th></th>\n",
       "      <th></th>\n",
       "      <th></th>\n",
       "      <th></th>\n",
       "      <th></th>\n",
       "    </tr>\n",
       "  </thead>\n",
       "  <tbody>\n",
       "    <tr>\n",
       "      <th>2020-02-03</th>\n",
       "      <td>28.436588</td>\n",
       "      <td>29.115694</td>\n",
       "      <td>28.023963</td>\n",
       "      <td>28.995346</td>\n",
       "      <td>11674300</td>\n",
       "    </tr>\n",
       "    <tr>\n",
       "      <th>2020-02-04</th>\n",
       "      <td>28.857809</td>\n",
       "      <td>29.098505</td>\n",
       "      <td>28.402206</td>\n",
       "      <td>28.797635</td>\n",
       "      <td>8788700</td>\n",
       "    </tr>\n",
       "    <tr>\n",
       "      <th>2020-02-05</th>\n",
       "      <td>29.519722</td>\n",
       "      <td>29.811997</td>\n",
       "      <td>29.064119</td>\n",
       "      <td>29.107100</td>\n",
       "      <td>7413600</td>\n",
       "    </tr>\n",
       "    <tr>\n",
       "      <th>2020-02-06</th>\n",
       "      <td>29.743225</td>\n",
       "      <td>29.854978</td>\n",
       "      <td>29.416568</td>\n",
       "      <td>29.777611</td>\n",
       "      <td>6101800</td>\n",
       "    </tr>\n",
       "    <tr>\n",
       "      <th>2020-02-07</th>\n",
       "      <td>29.837786</td>\n",
       "      <td>30.310582</td>\n",
       "      <td>29.571302</td>\n",
       "      <td>30.216025</td>\n",
       "      <td>6558200</td>\n",
       "    </tr>\n",
       "  </tbody>\n",
       "</table>\n",
       "</div>"
      ],
      "text/plain": [
       "Price           Close       High        Low       Open    Volume\n",
       "Ticker           PARA       PARA       PARA       PARA      PARA\n",
       "Date                                                            \n",
       "2020-02-03  28.436588  29.115694  28.023963  28.995346  11674300\n",
       "2020-02-04  28.857809  29.098505  28.402206  28.797635   8788700\n",
       "2020-02-05  29.519722  29.811997  29.064119  29.107100   7413600\n",
       "2020-02-06  29.743225  29.854978  29.416568  29.777611   6101800\n",
       "2020-02-07  29.837786  30.310582  29.571302  30.216025   6558200"
      ]
     },
     "execution_count": 18,
     "metadata": {},
     "output_type": "execute_result"
    }
   ],
   "source": [
    "historical_data = yf.download('PARA', start=\"2020-02-03\", end=\"2020-02-10\")\n",
    "historical_data"
   ]
  },
  {
   "cell_type": "code",
   "execution_count": 13,
   "id": "6992442b",
   "metadata": {},
   "outputs": [
    {
     "name": "stderr",
     "output_type": "stream",
     "text": [
      "[*********************100%***********************]  1 of 1 completed\n",
      "[*********************100%***********************]  1 of 1 completed"
     ]
    },
    {
     "name": "stdout",
     "output_type": "stream",
     "text": [
      "Ticker: PARA\n",
      "Shares Outstanding: 633454976\n",
      "Closing Price: 28.43659210205078\n",
      "900665039\n"
     ]
    },
    {
     "name": "stderr",
     "output_type": "stream",
     "text": [
      "\n",
      "[*********************100%***********************]  1 of 1 completed"
     ]
    },
    {
     "name": "stdout",
     "output_type": "stream",
     "text": [
      "Ticker: WBD\n",
      "Shares Outstanding: 2474070016\n",
      "Closing Price: 29.149999618530273\n",
      "3605957002\n"
     ]
    },
    {
     "name": "stderr",
     "output_type": "stream",
     "text": [
      "\n",
      "[*********************100%***********************]  1 of 1 completed"
     ]
    },
    {
     "name": "stdout",
     "output_type": "stream",
     "text": [
      "Ticker: GOTU\n",
      "Shares Outstanding: 137702000\n",
      "Closing Price: 35.04999923706055\n",
      "241322750\n"
     ]
    },
    {
     "name": "stderr",
     "output_type": "stream",
     "text": [
      "\n",
      "[*********************100%***********************]  1 of 1 completed"
     ]
    },
    {
     "name": "stdout",
     "output_type": "stream",
     "text": [
      "Ticker: IQ\n",
      "Shares Outstanding: 528516000\n",
      "Closing Price: 23.850000381469727\n",
      "630255341\n"
     ]
    },
    {
     "name": "stderr",
     "output_type": "stream",
     "text": [
      "\n",
      "[*********************100%***********************]  1 of 1 completed"
     ]
    },
    {
     "name": "stdout",
     "output_type": "stream",
     "text": [
      "Ticker: TME\n",
      "Shares Outstanding: 708443008\n",
      "Closing Price: 12.714132308959961\n",
      "450361907\n"
     ]
    },
    {
     "name": "stderr",
     "output_type": "stream",
     "text": [
      "\n",
      "[*********************100%***********************]  1 of 1 completed"
     ]
    },
    {
     "name": "stdout",
     "output_type": "stream",
     "text": [
      "Ticker: VIPS\n",
      "Shares Outstanding: 437081984\n",
      "Closing Price: 12.583389282226562\n",
      "274998638\n"
     ]
    },
    {
     "name": "stderr",
     "output_type": "stream",
     "text": [
      "\n",
      "[*********************100%***********************]  1 of 1 completed"
     ]
    },
    {
     "name": "stdout",
     "output_type": "stream",
     "text": [
      "Ticker: BIDU\n",
      "Shares Outstanding: 278228000\n",
      "Closing Price: 130.49000549316406\n",
      "1815298663\n"
     ]
    },
    {
     "name": "stderr",
     "output_type": "stream",
     "text": [
      "\n",
      "[*********************100%***********************]  1 of 1 completed"
     ]
    },
    {
     "name": "stdout",
     "output_type": "stream",
     "text": [
      "Ticker: FTCHQ\n",
      "Shares Outstanding: 352608000\n",
      "Closing Price: 12.09000015258789\n",
      "213151539\n"
     ]
    },
    {
     "name": "stderr",
     "output_type": "stream",
     "text": [
      "\n"
     ]
    },
    {
     "name": "stdout",
     "output_type": "stream",
     "text": [
      "Ticker: TCBI\n",
      "Shares Outstanding: 45903400\n",
      "Closing Price: 54.689998626708984\n",
      "125522845\n"
     ]
    }
   ],
   "source": [
    "tickers = ['PARA',\n",
    "            \"WBD\",\n",
    "            \"GOTU\",\n",
    "            \"IQ\",\n",
    "            \"TME\",\n",
    "            \"VIPS\",\n",
    "            \"BIDU\",\n",
    "            \"FTCHQ\", \n",
    "            \"TCBI\"\n",
    "            ]\n",
    "\n",
    "results = []\n",
    "\n",
    "for ticker_symbol in tickers:\n",
    "    historical_data = yf.download(ticker_symbol, start=\"2020-02-03\", end=\"2020-02-04\")\n",
    "    \n",
    "    if not historical_data.empty:\n",
    "        closing_price = historical_data[\"Close\"][ticker_symbol].iloc[0]\n",
    "        # print()\n",
    "        # print(closing_price)\n",
    "        # print()\n",
    "        \n",
    "        ticker = yf.Ticker(ticker_symbol)\n",
    "        info = ticker.info\n",
    "        shares_outstanding = info.get(\"sharesOutstanding\", None)\n",
    "        \n",
    "        print(f\"Ticker: {ticker_symbol}\")\n",
    "        print(f\"Shares Outstanding: {shares_outstanding}\")\n",
    "        print(f\"Closing Price: {closing_price}\")\n",
    "        \n",
    "        five_percent_shares = shares_outstanding * 0.05\n",
    "\n",
    "        total_value = int(np.ceil(five_percent_shares * closing_price))\n",
    "        print(total_value)\n",
    "            \n",
    "        results.append({\n",
    "                \"Ticker\": ticker_symbol,\n",
    "                \"Shares Outstanding\": shares_outstanding,\n",
    "                \"Closing Price (2020-02-03)\": closing_price,\n",
    "                \"5% Shares\": five_percent_shares,\n",
    "                \"Portfolio Value (5%)\": total_value\n",
    "            })\n"
   ]
  },
  {
   "cell_type": "code",
   "execution_count": 14,
   "id": "abe80441",
   "metadata": {},
   "outputs": [
    {
     "data": {
      "text/html": [
       "<div>\n",
       "<style scoped>\n",
       "    .dataframe tbody tr th:only-of-type {\n",
       "        vertical-align: middle;\n",
       "    }\n",
       "\n",
       "    .dataframe tbody tr th {\n",
       "        vertical-align: top;\n",
       "    }\n",
       "\n",
       "    .dataframe thead th {\n",
       "        text-align: right;\n",
       "    }\n",
       "</style>\n",
       "<table border=\"1\" class=\"dataframe\">\n",
       "  <thead>\n",
       "    <tr style=\"text-align: right;\">\n",
       "      <th></th>\n",
       "      <th>Ticker</th>\n",
       "      <th>Shares Outstanding</th>\n",
       "      <th>Closing Price (2020-02-03)</th>\n",
       "      <th>5% Shares</th>\n",
       "      <th>Portfolio Value (5%)</th>\n",
       "    </tr>\n",
       "  </thead>\n",
       "  <tbody>\n",
       "    <tr>\n",
       "      <th>0</th>\n",
       "      <td>PARA</td>\n",
       "      <td>633454976</td>\n",
       "      <td>28.436592</td>\n",
       "      <td>31672748.8</td>\n",
       "      <td>900665039</td>\n",
       "    </tr>\n",
       "    <tr>\n",
       "      <th>1</th>\n",
       "      <td>WBD</td>\n",
       "      <td>2474070016</td>\n",
       "      <td>29.150000</td>\n",
       "      <td>123703500.8</td>\n",
       "      <td>3605957002</td>\n",
       "    </tr>\n",
       "    <tr>\n",
       "      <th>2</th>\n",
       "      <td>GOTU</td>\n",
       "      <td>137702000</td>\n",
       "      <td>35.049999</td>\n",
       "      <td>6885100.0</td>\n",
       "      <td>241322750</td>\n",
       "    </tr>\n",
       "    <tr>\n",
       "      <th>3</th>\n",
       "      <td>IQ</td>\n",
       "      <td>528516000</td>\n",
       "      <td>23.850000</td>\n",
       "      <td>26425800.0</td>\n",
       "      <td>630255341</td>\n",
       "    </tr>\n",
       "    <tr>\n",
       "      <th>4</th>\n",
       "      <td>TME</td>\n",
       "      <td>708443008</td>\n",
       "      <td>12.714132</td>\n",
       "      <td>35422150.4</td>\n",
       "      <td>450361907</td>\n",
       "    </tr>\n",
       "    <tr>\n",
       "      <th>5</th>\n",
       "      <td>VIPS</td>\n",
       "      <td>437081984</td>\n",
       "      <td>12.583389</td>\n",
       "      <td>21854099.2</td>\n",
       "      <td>274998638</td>\n",
       "    </tr>\n",
       "    <tr>\n",
       "      <th>6</th>\n",
       "      <td>BIDU</td>\n",
       "      <td>278228000</td>\n",
       "      <td>130.490005</td>\n",
       "      <td>13911400.0</td>\n",
       "      <td>1815298663</td>\n",
       "    </tr>\n",
       "    <tr>\n",
       "      <th>7</th>\n",
       "      <td>FTCHQ</td>\n",
       "      <td>352608000</td>\n",
       "      <td>12.090000</td>\n",
       "      <td>17630400.0</td>\n",
       "      <td>213151539</td>\n",
       "    </tr>\n",
       "    <tr>\n",
       "      <th>8</th>\n",
       "      <td>TCBI</td>\n",
       "      <td>45903400</td>\n",
       "      <td>54.689999</td>\n",
       "      <td>2295170.0</td>\n",
       "      <td>125522845</td>\n",
       "    </tr>\n",
       "  </tbody>\n",
       "</table>\n",
       "</div>"
      ],
      "text/plain": [
       "  Ticker  Shares Outstanding  Closing Price (2020-02-03)    5% Shares  \\\n",
       "0   PARA           633454976                   28.436592   31672748.8   \n",
       "1    WBD          2474070016                   29.150000  123703500.8   \n",
       "2   GOTU           137702000                   35.049999    6885100.0   \n",
       "3     IQ           528516000                   23.850000   26425800.0   \n",
       "4    TME           708443008                   12.714132   35422150.4   \n",
       "5   VIPS           437081984                   12.583389   21854099.2   \n",
       "6   BIDU           278228000                  130.490005   13911400.0   \n",
       "7  FTCHQ           352608000                   12.090000   17630400.0   \n",
       "8   TCBI            45903400                   54.689999    2295170.0   \n",
       "\n",
       "   Portfolio Value (5%)  \n",
       "0             900665039  \n",
       "1            3605957002  \n",
       "2             241322750  \n",
       "3             630255341  \n",
       "4             450361907  \n",
       "5             274998638  \n",
       "6            1815298663  \n",
       "7             213151539  \n",
       "8             125522845  "
      ]
     },
     "execution_count": 14,
     "metadata": {},
     "output_type": "execute_result"
    }
   ],
   "source": [
    "df = pd.DataFrame(results)\n",
    "df"
   ]
  },
  {
   "cell_type": "code",
   "execution_count": 15,
   "id": "45f373cc",
   "metadata": {},
   "outputs": [
    {
     "data": {
      "text/html": [
       "<div>\n",
       "<style scoped>\n",
       "    .dataframe tbody tr th:only-of-type {\n",
       "        vertical-align: middle;\n",
       "    }\n",
       "\n",
       "    .dataframe tbody tr th {\n",
       "        vertical-align: top;\n",
       "    }\n",
       "\n",
       "    .dataframe thead th {\n",
       "        text-align: right;\n",
       "    }\n",
       "</style>\n",
       "<table border=\"1\" class=\"dataframe\">\n",
       "  <thead>\n",
       "    <tr style=\"text-align: right;\">\n",
       "      <th></th>\n",
       "      <th>Ticker</th>\n",
       "      <th>Shares Outstanding</th>\n",
       "      <th>Closing Price (2020-02-03)</th>\n",
       "      <th>5% Shares</th>\n",
       "      <th>Portfolio Value (5%)</th>\n",
       "    </tr>\n",
       "  </thead>\n",
       "  <tbody>\n",
       "    <tr>\n",
       "      <th>1</th>\n",
       "      <td>WBD</td>\n",
       "      <td>2474070016</td>\n",
       "      <td>29.150000</td>\n",
       "      <td>123703500.8</td>\n",
       "      <td>3605957002</td>\n",
       "    </tr>\n",
       "    <tr>\n",
       "      <th>6</th>\n",
       "      <td>BIDU</td>\n",
       "      <td>278228000</td>\n",
       "      <td>130.490005</td>\n",
       "      <td>13911400.0</td>\n",
       "      <td>1815298663</td>\n",
       "    </tr>\n",
       "    <tr>\n",
       "      <th>0</th>\n",
       "      <td>PARA</td>\n",
       "      <td>633454976</td>\n",
       "      <td>28.436592</td>\n",
       "      <td>31672748.8</td>\n",
       "      <td>900665039</td>\n",
       "    </tr>\n",
       "    <tr>\n",
       "      <th>3</th>\n",
       "      <td>IQ</td>\n",
       "      <td>528516000</td>\n",
       "      <td>23.850000</td>\n",
       "      <td>26425800.0</td>\n",
       "      <td>630255341</td>\n",
       "    </tr>\n",
       "    <tr>\n",
       "      <th>4</th>\n",
       "      <td>TME</td>\n",
       "      <td>708443008</td>\n",
       "      <td>12.714132</td>\n",
       "      <td>35422150.4</td>\n",
       "      <td>450361907</td>\n",
       "    </tr>\n",
       "    <tr>\n",
       "      <th>5</th>\n",
       "      <td>VIPS</td>\n",
       "      <td>437081984</td>\n",
       "      <td>12.583389</td>\n",
       "      <td>21854099.2</td>\n",
       "      <td>274998638</td>\n",
       "    </tr>\n",
       "    <tr>\n",
       "      <th>2</th>\n",
       "      <td>GOTU</td>\n",
       "      <td>137702000</td>\n",
       "      <td>35.049999</td>\n",
       "      <td>6885100.0</td>\n",
       "      <td>241322750</td>\n",
       "    </tr>\n",
       "    <tr>\n",
       "      <th>7</th>\n",
       "      <td>FTCHQ</td>\n",
       "      <td>352608000</td>\n",
       "      <td>12.090000</td>\n",
       "      <td>17630400.0</td>\n",
       "      <td>213151539</td>\n",
       "    </tr>\n",
       "    <tr>\n",
       "      <th>8</th>\n",
       "      <td>TCBI</td>\n",
       "      <td>45903400</td>\n",
       "      <td>54.689999</td>\n",
       "      <td>2295170.0</td>\n",
       "      <td>125522845</td>\n",
       "    </tr>\n",
       "  </tbody>\n",
       "</table>\n",
       "</div>"
      ],
      "text/plain": [
       "  Ticker  Shares Outstanding  Closing Price (2020-02-03)    5% Shares  \\\n",
       "1    WBD          2474070016                   29.150000  123703500.8   \n",
       "6   BIDU           278228000                  130.490005   13911400.0   \n",
       "0   PARA           633454976                   28.436592   31672748.8   \n",
       "3     IQ           528516000                   23.850000   26425800.0   \n",
       "4    TME           708443008                   12.714132   35422150.4   \n",
       "5   VIPS           437081984                   12.583389   21854099.2   \n",
       "2   GOTU           137702000                   35.049999    6885100.0   \n",
       "7  FTCHQ           352608000                   12.090000   17630400.0   \n",
       "8   TCBI            45903400                   54.689999    2295170.0   \n",
       "\n",
       "   Portfolio Value (5%)  \n",
       "1            3605957002  \n",
       "6            1815298663  \n",
       "0             900665039  \n",
       "3             630255341  \n",
       "4             450361907  \n",
       "5             274998638  \n",
       "2             241322750  \n",
       "7             213151539  \n",
       "8             125522845  "
      ]
     },
     "execution_count": 15,
     "metadata": {},
     "output_type": "execute_result"
    }
   ],
   "source": [
    "sorted_df = df.sort_values(by=\"Portfolio Value (5%)\", ascending=False)\n",
    "\n",
    "total_value = sorted_df[\"Portfolio Value (5%)\"].sum()\n",
    "\n",
    "sorted_df"
   ]
  },
  {
   "cell_type": "code",
   "execution_count": 16,
   "id": "59909fc9",
   "metadata": {},
   "outputs": [
    {
     "data": {
      "text/plain": [
       "array([0.10907192, 0.43668692, 0.02922456, 0.07632489, 0.05453952,\n",
       "       0.03330276, 0.21983545, 0.02581298, 0.01520101])"
      ]
     },
     "execution_count": 16,
     "metadata": {},
     "output_type": "execute_result"
    }
   ],
   "source": [
    "weights = df[\"Portfolio Value (5%)\"] / total_value\n",
    "weights = np.array(weights.to_list())\n",
    "weights"
   ]
  },
  {
   "cell_type": "code",
   "execution_count": 19,
   "id": "2e146145",
   "metadata": {},
   "outputs": [
    {
     "name": "stderr",
     "output_type": "stream",
     "text": [
      "[*********************100%***********************]  9 of 9 completed\n"
     ]
    }
   ],
   "source": [
    "data = yf.download(tickers, start='2019-06-06', end='2020-06-05')['Close'] # 1 year\n",
    "data = data[tickers] # sorted in tickers order\n",
    "daily_returns = data.pct_change().dropna()"
   ]
  },
  {
   "cell_type": "code",
   "execution_count": 20,
   "id": "667924f1",
   "metadata": {},
   "outputs": [],
   "source": [
    "mean_returns = daily_returns.mean()\n",
    "cov_returns =  daily_returns.cov()"
   ]
  },
  {
   "cell_type": "code",
   "execution_count": 34,
   "id": "d0f0a57f",
   "metadata": {},
   "outputs": [],
   "source": [
    "import numpy as np\n",
    "import pandas as pd\n",
    "\n",
    "# === Monte Carlo Simulation Parameters ===\n",
    "num_trails = 100_000\n",
    "T = 251  # number of days\n",
    "#total_value = 8_000_000_000  # example initial value of portfolio\n",
    "initial_equity_price = total_value\n",
    "\n",
    "# Portfolio parameters\n",
    "own_capital = total_value\n",
    "debt = 7_500_000_000\n",
    "debt_rate = 0.005\n",
    "initial_margin = debt\n",
    "initial_margin_rate = 0.075\n",
    "trs_notional = initial_margin / initial_margin_rate\n",
    "\n",
    "# Example of multi-asset inputs\n",
    "np.random.seed(42)\n",
    "# mean_returns = np.array([0.0002])  # average daily return\n",
    "# weights = np.array([1.0])  # single asset\n",
    "# cov_returns = np.array([[0.0001]])  # variance\n",
    "\n",
    "# === Monte Carlo Price Simulation ===\n",
    "meanM = np.full(shape=(T, len(weights)), fill_value=mean_returns).T\n",
    "portfolio_sims = np.full(shape=(T, num_trails), fill_value=0.0)\n",
    "initialPortfolio = initial_equity_price\n",
    "\n",
    "for m in range(num_trails):\n",
    "    Z = np.random.normal(size=(T, len(weights)))\n",
    "    L = np.linalg.cholesky(cov_returns)\n",
    "    dailyReturns = meanM + np.inner(L, Z)\n",
    "    portfolio_sims[:, m] = np.cumprod(np.inner(weights, dailyReturns.T) + 1) * initialPortfolio\n",
    "\n",
    "# === Simulate TRS Margin Calls and Portfolio Dynamics ===\n",
    "defaults = []\n",
    "final_pnls = []\n",
    "\n",
    "for m in range(num_trails):\n",
    "    price_path = portfolio_sims[:, m]\n",
    "    own_units = own_capital / price_path[0]  # number of units of portfolio\n",
    "    trs_units = trs_notional / price_path[0]\n",
    "\n",
    "    margin_balance = initial_margin\n",
    "    last_vm_price = price_path[0]\n",
    "    default_flag = False\n",
    "\n",
    "    for t in range(1, T):\n",
    "        price_now = price_path[t]\n",
    "        price_prev = price_path[t - 1]\n",
    "\n",
    "        if price_now > price_prev and margin_balance > 0:\n",
    "            gain = price_now - price_prev\n",
    "            delta = min(margin_balance, trs_units * gain)\n",
    "            shares_to_buy = delta / price_now\n",
    "            own_units += shares_to_buy\n",
    "            margin_balance -= delta\n",
    "\n",
    "        elif price_now <= 0.85 * last_vm_price:\n",
    "            drop = last_vm_price - price_now\n",
    "            delta = trs_units * drop\n",
    "            shares_to_sell = delta / price_now\n",
    "\n",
    "            if own_units * price_now >= delta:\n",
    "                own_units -= shares_to_sell\n",
    "                margin_balance += delta\n",
    "                last_vm_price = price_now\n",
    "            else:\n",
    "                default_flag = True\n",
    "                break\n",
    "\n",
    "    debt_cost = debt * debt_rate\n",
    "    final_own_value = own_units * price_path[-1]\n",
    "    final_trs_pnl = trs_units * (price_path[-1] - price_path[0])\n",
    "    final_portfolio_value = final_own_value + final_trs_pnl - debt_cost\n",
    "\n",
    "    defaults.append(default_flag)\n",
    "    final_pnls.append(final_portfolio_value)\n",
    "\n",
    "# === Risk Metrics ===\n",
    "defaults = np.array(defaults)\n",
    "final_pnls = np.array(final_pnls)\n",
    "\n",
    "default_prob = np.mean(defaults)\n",
    "var_5 = np.percentile(final_pnls, 1)\n",
    "expected_shortfall_5 = final_pnls[final_pnls <= var_5].mean()\n",
    "conditional_mean_pnl = final_pnls[~defaults].mean()\n"
   ]
  },
  {
   "cell_type": "code",
   "execution_count": 35,
   "id": "2a61cc74",
   "metadata": {},
   "outputs": [
    {
     "name": "stdout",
     "output_type": "stream",
     "text": [
      "=== TRS Monte Carlo Results (Multi-Asset Portfolio) ===\n",
      "                         Metric            Value\n",
      "            Default Probability           67.77%\n",
      "                      VaR (99%) $-54,197,720,905\n",
      "       Expected Shortfall (99%) $-59,435,216,243\n",
      "Conditional Mean P&L (Survival)  $58,897,357,839\n"
     ]
    }
   ],
   "source": [
    "import pandas as pd\n",
    "\n",
    "# Формируем DataFrame с результатами\n",
    "results_df = pd.DataFrame({\n",
    "    \"Metric\": [\n",
    "        \"Default Probability\",\n",
    "        \"VaR (99%)\",\n",
    "        \"Expected Shortfall (99%)\",\n",
    "        \"Conditional Mean P&L (Survival)\"\n",
    "    ],\n",
    "    \"Value\": [\n",
    "        f\"{default_prob:.2%}\",\n",
    "        f\"${var_5:,.0f}\",\n",
    "        f\"${expected_shortfall_5:,.0f}\",\n",
    "        f\"${conditional_mean_pnl:,.0f}\"\n",
    "    ]\n",
    "})\n",
    "\n",
    "# Печатаем красиво\n",
    "print(\"=== TRS Monte Carlo Results (Multi-Asset Portfolio) ===\")\n",
    "print(results_df.to_string(index=False))"
   ]
  },
  {
   "cell_type": "code",
   "execution_count": null,
   "id": "3cb3cf01",
   "metadata": {},
   "outputs": [
    {
     "data": {
      "image/png": "[encoded data removed]",
      "text/plain": [
       "<Figure size 1400x600 with 2 Axes>"
      ]
     },
     "metadata": {},
     "output_type": "display_data"
    }
   ],
   "source": [
    "# plt.figure(figsize=(14, 6))\n",
    "\n",
    "# plt.subplot(1, 2, 1)\n",
    "# plt.plot(results[\"Day\"], results[\"Margin Balance\"], label=\"Margin Balance\")\n",
    "# plt.plot(results[\"Day\"], results[\"Variation Margin (Realistic)\"], label=\"Cumulative VM\")\n",
    "# plt.plot(results[\"Day\"], results[\"Released Margin\"], label=\"Released Margin\")\n",
    "# plt.title(\"Margin Flows under OTC Rules\")\n",
    "# plt.xlabel(\"Day\")\n",
    "# plt.ylabel(\"Amount ($)\")\n",
    "# plt.legend()\n",
    "\n",
    "# plt.subplot(1, 2, 2)\n",
    "# plt.plot(results[\"Day\"], results[\"Total Portfolio Value\"])\n",
    "# plt.title(\"Total Portfolio Value\")\n",
    "# plt.xlabel(\"Day\")\n",
    "# plt.ylabel(\"Portfolio Value ($)\")\n",
    "\n",
    "# plt.tight_layout()\n",
    "# plt.show()"
   ]
  },
  {
   "cell_type": "code",
   "execution_count": null,
   "id": "2d683dcf",
   "metadata": {},
   "outputs": [
    {
     "data": {
      "text/html": [
       "<div>\n",
       "<style scoped>\n",
       "    .dataframe tbody tr th:only-of-type {\n",
       "        vertical-align: middle;\n",
       "    }\n",
       "\n",
       "    .dataframe tbody tr th {\n",
       "        vertical-align: top;\n",
       "    }\n",
       "\n",
       "    .dataframe thead th {\n",
       "        text-align: right;\n",
       "    }\n",
       "</style>\n",
       "<table border=\"1\" class=\"dataframe\">\n",
       "  <thead>\n",
       "    <tr style=\"text-align: right;\">\n",
       "      <th></th>\n",
       "      <th>Day</th>\n",
       "      <th>Equity Price</th>\n",
       "      <th>Own Equity Value</th>\n",
       "      <th>TRS PnL</th>\n",
       "      <th>Total Portfolio Value</th>\n",
       "      <th>Variation Margin (Realistic)</th>\n",
       "      <th>Released Margin</th>\n",
       "      <th>Margin Balance</th>\n",
       "    </tr>\n",
       "  </thead>\n",
       "  <tbody>\n",
       "    <tr>\n",
       "      <th>0</th>\n",
       "      <td>0</td>\n",
       "      <td>100</td>\n",
       "      <td>100000000.0</td>\n",
       "      <td>0.000000e+00</td>\n",
       "      <td>8.000000e+07</td>\n",
       "      <td>0.0</td>\n",
       "      <td>0.000000e+00</td>\n",
       "      <td>4.000000e+08</td>\n",
       "    </tr>\n",
       "    <tr>\n",
       "      <th>1</th>\n",
       "      <td>1</td>\n",
       "      <td>95</td>\n",
       "      <td>95000000.0</td>\n",
       "      <td>-1.333333e+08</td>\n",
       "      <td>-5.833333e+07</td>\n",
       "      <td>0.0</td>\n",
       "      <td>0.000000e+00</td>\n",
       "      <td>4.000000e+08</td>\n",
       "    </tr>\n",
       "    <tr>\n",
       "      <th>2</th>\n",
       "      <td>2</td>\n",
       "      <td>85</td>\n",
       "      <td>85000000.0</td>\n",
       "      <td>-4.000000e+08</td>\n",
       "      <td>-3.350000e+08</td>\n",
       "      <td>0.0</td>\n",
       "      <td>0.000000e+00</td>\n",
       "      <td>4.000000e+08</td>\n",
       "    </tr>\n",
       "    <tr>\n",
       "      <th>3</th>\n",
       "      <td>3</td>\n",
       "      <td>70</td>\n",
       "      <td>70000000.0</td>\n",
       "      <td>-8.000000e+08</td>\n",
       "      <td>-7.500000e+08</td>\n",
       "      <td>400000000.0</td>\n",
       "      <td>0.000000e+00</td>\n",
       "      <td>8.000000e+08</td>\n",
       "    </tr>\n",
       "    <tr>\n",
       "      <th>4</th>\n",
       "      <td>4</td>\n",
       "      <td>110</td>\n",
       "      <td>110000000.0</td>\n",
       "      <td>2.666667e+08</td>\n",
       "      <td>3.566667e+08</td>\n",
       "      <td>400000000.0</td>\n",
       "      <td>0.000000e+00</td>\n",
       "      <td>8.000000e+08</td>\n",
       "    </tr>\n",
       "    <tr>\n",
       "      <th>5</th>\n",
       "      <td>5</td>\n",
       "      <td>125</td>\n",
       "      <td>125000000.0</td>\n",
       "      <td>6.666667e+08</td>\n",
       "      <td>7.716667e+08</td>\n",
       "      <td>400000000.0</td>\n",
       "      <td>2.666667e+08</td>\n",
       "      <td>5.333333e+08</td>\n",
       "    </tr>\n",
       "  </tbody>\n",
       "</table>\n",
       "</div>"
      ],
      "text/plain": [
       "   Day  Equity Price  Own Equity Value       TRS PnL  Total Portfolio Value  \\\n",
       "0    0           100       100000000.0  0.000000e+00           8.000000e+07   \n",
       "1    1            95        95000000.0 -1.333333e+08          -5.833333e+07   \n",
       "2    2            85        85000000.0 -4.000000e+08          -3.350000e+08   \n",
       "3    3            70        70000000.0 -8.000000e+08          -7.500000e+08   \n",
       "4    4           110       110000000.0  2.666667e+08           3.566667e+08   \n",
       "5    5           125       125000000.0  6.666667e+08           7.716667e+08   \n",
       "\n",
       "   Variation Margin (Realistic)  Released Margin  Margin Balance  \n",
       "0                           0.0     0.000000e+00    4.000000e+08  \n",
       "1                           0.0     0.000000e+00    4.000000e+08  \n",
       "2                           0.0     0.000000e+00    4.000000e+08  \n",
       "3                   400000000.0     0.000000e+00    8.000000e+08  \n",
       "4                   400000000.0     0.000000e+00    8.000000e+08  \n",
       "5                   400000000.0     2.666667e+08    5.333333e+08  "
      ]
     },
     "execution_count": 40,
     "metadata": {},
     "output_type": "execute_result"
    }
   ],
   "source": [
    "# results"
   ]
  },
  {
   "cell_type": "markdown",
   "id": "c4f711c3",
   "metadata": {},
   "source": [
    "Дальше надо:\n",
    "- вар маржу свободную отправляем на докуп позиций\n",
    "- стоимость актива растет, когда объем trs растет (какой-то threshold по объему отоносительного всего free-float equity, _по-моему это есть в CS отчете_) Kyle’s Lambda Model и Almgren-Chriss Model (https://chatgpt.com/share/6845fb6c-7f4c-8002-944e-ae0271ec3883)\n",
    "- \n",
    "- \n",
    "Как показать "
   ]
  },
  {
   "cell_type": "code",
   "execution_count": null,
   "id": "82ddf0bf",
   "metadata": {},
   "outputs": [
    {
     "name": "stdout",
     "output_type": "stream",
     "text": [
      "Total VM paid: 9,000,000 USD\n",
      "Total VM returned: 8,000,000 USD\n",
      "Net VM exposure: -1,000,000 USD\n"
     ]
    },
    {
     "data": {
      "image/png": "[encoded data removed]",
      "text/plain": [
       "<Figure size 1000x500 with 1 Axes>"
      ]
     },
     "metadata": {},
     "output_type": "display_data"
    }
   ],
   "source": [
    "import numpy as np\n",
    "import matplotlib.pyplot as plt\n",
    "\n",
    "# Параметры TRS и VM\n",
    "S0 = 100              # начальная цена\n",
    "BARRIER = 85          # VM-триггер (15% падение)\n",
    "VM_AMOUNT = 1_000_000 # сумма VM (как у Archegos)\n",
    "T = 1.0               # срок TRS (в годах)\n",
    "dt = 1/252            # шаг по времени (дни)\n",
    "N = int(T / dt)       # количество шагов\n",
    "mu = 0.00             # ожидаемая доходность\n",
    "sigma = 0.30          # волатильность акции\n",
    "\n",
    "# Инициализация траектории\n",
    "S = np.zeros(N)\n",
    "S[0] = S0\n",
    "vm_flow = np.zeros(N)  # поток VM (выплаты или возвраты)\n",
    "vm_held = 0            # текущая удерживаемая маржа\n",
    "below = False          # флаг: ниже барьера\n",
    "\n",
    "# Генерация траектории\n",
    "#np.random.seed(42)\n",
    "for t in range(1, N):\n",
    "    dW = np.random.normal(0, np.sqrt(dt))\n",
    "    S[t] = S[t-1] * np.exp((mu - 0.5 * sigma**2) * dt + sigma * dW)\n",
    "\n",
    "    # VM логика: one-touch вниз\n",
    "    if not below and S[t] <= BARRIER:\n",
    "        vm_flow[t] = -VM_AMOUNT\n",
    "        vm_held = VM_AMOUNT\n",
    "        below = True\n",
    "\n",
    "    # VM возврат: one-touch вверх\n",
    "    if below and S[t] > BARRIER:\n",
    "        vm_flow[t] = +VM_AMOUNT\n",
    "        vm_held = 0\n",
    "        below = False\n",
    "\n",
    "# Результаты\n",
    "print(f\"Total VM paid: {-np.sum(vm_flow[vm_flow < 0]):,.0f} USD\")\n",
    "print(f\"Total VM returned: {np.sum(vm_flow[vm_flow > 0]):,.0f} USD\")\n",
    "print(f\"Net VM exposure: {np.sum(vm_flow):,.0f} USD\")\n",
    "\n",
    "# Визуализация\n",
    "plt.figure(figsize=(10,5))\n",
    "plt.plot(S, label=\"Price path (S)\")\n",
    "plt.axhline(BARRIER, color='red', linestyle='--', label='VM Barrier ($85)')\n",
    "plt.fill_between(range(N), S, BARRIER, where=(S <= BARRIER), color='red', alpha=0.1, label=\"Below barrier\")\n",
    "plt.title(\"Simulated Equity Path with VM Barrier (Archegos-style TRS)\")\n",
    "plt.xlabel(\"Day\")\n",
    "plt.ylabel(\"Price\")\n",
    "plt.legend()\n",
    "plt.grid(True)\n",
    "plt.show()"
   ]
  },
  {
   "cell_type": "markdown",
   "id": "7c35b4f5",
   "metadata": {},
   "source": [
    "логика с touch option:\n",
    "возможно стоит добавить логику прям расчета стоимости опциона, как показатель \"проваты\" расчета через монте-карло"
   ]
  }
 ],
 "metadata": {
  "kernelspec": {
   "display_name": "base",
   "language": "python",
   "name": "python3"
  },
  "language_info": {
   "codemirror_mode": {
    "name": "ipython",
    "version": 3
   },
   "file_extension": ".py",
   "mimetype": "text/x-python",
   "name": "python",
   "nbconvert_exporter": "python",
   "pygments_lexer": "ipython3",
   "version": "3.11.10"
  }
 },
 "nbformat": 4,
 "nbformat_minor": 5
}
